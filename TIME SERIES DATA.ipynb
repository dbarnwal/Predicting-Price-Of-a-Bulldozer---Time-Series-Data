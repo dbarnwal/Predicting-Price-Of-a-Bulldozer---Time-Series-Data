{
 "cells": [
  {
   "cell_type": "code",
   "execution_count": 27,
   "metadata": {},
   "outputs": [],
   "source": [
    "import pandas as pd\n",
    "import numpy as np\n",
    "%matplotlib inline\n",
    "import matplotlib.pyplot as plt\n",
    "from sklearn.model_selection import train_test_split"
   ]
  },
  {
   "cell_type": "code",
   "execution_count": 10,
   "metadata": {},
   "outputs": [
    {
     "name": "stdout",
     "output_type": "stream",
     "text": [
      "<class 'pandas.core.frame.DataFrame'>\n",
      "RangeIndex: 412698 entries, 0 to 412697\n",
      "Data columns (total 53 columns):\n",
      " #   Column                    Non-Null Count   Dtype         \n",
      "---  ------                    --------------   -----         \n",
      " 0   SalesID                   412698 non-null  int64         \n",
      " 1   SalePrice                 412698 non-null  float64       \n",
      " 2   MachineID                 412698 non-null  int64         \n",
      " 3   ModelID                   412698 non-null  int64         \n",
      " 4   datasource                412698 non-null  int64         \n",
      " 5   auctioneerID              392562 non-null  float64       \n",
      " 6   YearMade                  412698 non-null  int64         \n",
      " 7   MachineHoursCurrentMeter  147504 non-null  float64       \n",
      " 8   UsageBand                 73670 non-null   object        \n",
      " 9   saledate                  412698 non-null  datetime64[ns]\n",
      " 10  fiModelDesc               412698 non-null  object        \n",
      " 11  fiBaseModel               412698 non-null  object        \n",
      " 12  fiSecondaryDesc           271971 non-null  object        \n",
      " 13  fiModelSeries             58667 non-null   object        \n",
      " 14  fiModelDescriptor         74816 non-null   object        \n",
      " 15  ProductSize               196093 non-null  object        \n",
      " 16  fiProductClassDesc        412698 non-null  object        \n",
      " 17  state                     412698 non-null  object        \n",
      " 18  ProductGroup              412698 non-null  object        \n",
      " 19  ProductGroupDesc          412698 non-null  object        \n",
      " 20  Drive_System              107087 non-null  object        \n",
      " 21  Enclosure                 412364 non-null  object        \n",
      " 22  Forks                     197715 non-null  object        \n",
      " 23  Pad_Type                  81096 non-null   object        \n",
      " 24  Ride_Control              152728 non-null  object        \n",
      " 25  Stick                     81096 non-null   object        \n",
      " 26  Transmission              188007 non-null  object        \n",
      " 27  Turbocharged              81096 non-null   object        \n",
      " 28  Blade_Extension           25983 non-null   object        \n",
      " 29  Blade_Width               25983 non-null   object        \n",
      " 30  Enclosure_Type            25983 non-null   object        \n",
      " 31  Engine_Horsepower         25983 non-null   object        \n",
      " 32  Hydraulics                330133 non-null  object        \n",
      " 33  Pushblock                 25983 non-null   object        \n",
      " 34  Ripper                    106945 non-null  object        \n",
      " 35  Scarifier                 25994 non-null   object        \n",
      " 36  Tip_Control               25983 non-null   object        \n",
      " 37  Tire_Size                 97638 non-null   object        \n",
      " 38  Coupler                   220679 non-null  object        \n",
      " 39  Coupler_System            44974 non-null   object        \n",
      " 40  Grouser_Tracks            44875 non-null   object        \n",
      " 41  Hydraulics_Flow           44875 non-null   object        \n",
      " 42  Track_Type                102193 non-null  object        \n",
      " 43  Undercarriage_Pad_Width   102916 non-null  object        \n",
      " 44  Stick_Length              102261 non-null  object        \n",
      " 45  Thumb                     102332 non-null  object        \n",
      " 46  Pattern_Changer           102261 non-null  object        \n",
      " 47  Grouser_Type              102193 non-null  object        \n",
      " 48  Backhoe_Mounting          80712 non-null   object        \n",
      " 49  Blade_Type                81875 non-null   object        \n",
      " 50  Travel_Controls           81877 non-null   object        \n",
      " 51  Differential_Type         71564 non-null   object        \n",
      " 52  Steering_Controls         71522 non-null   object        \n",
      "dtypes: datetime64[ns](1), float64(3), int64(5), object(44)\n",
      "memory usage: 166.9+ MB\n"
     ]
    }
   ],
   "source": [
    "data = pd.read_csv(\"C:/Users/dell/Desktop/ml/bull/TrainAndValid.csv\" , low_memory=False , parse_dates=[\"saledate\"])\n",
    "data.info()"
   ]
  },
  {
   "cell_type": "code",
   "execution_count": 11,
   "metadata": {},
   "outputs": [
    {
     "data": {
      "text/plain": [
       "<matplotlib.collections.PathCollection at 0x18b69803888>"
      ]
     },
     "execution_count": 11,
     "metadata": {},
     "output_type": "execute_result"
    },
    {
     "data": {
      "image/png": "[encoded data removed]",
      "text/plain": [
       "<Figure size 432x288 with 1 Axes>"
      ]
     },
     "metadata": {
      "needs_background": "light"
     },
     "output_type": "display_data"
    }
   ],
   "source": [
    "fig ,ax = plt.subplots()\n",
    "ax.scatter(data[\"saledate\"][:1000] , data[\"SalePrice\"][:1000])"
   ]
  },
  {
   "cell_type": "code",
   "execution_count": 12,
   "metadata": {},
   "outputs": [
    {
     "data": {
      "text/plain": [
       "205615   1989-01-17\n",
       "274835   1989-01-31\n",
       "141296   1989-01-31\n",
       "212552   1989-01-31\n",
       "62755    1989-01-31\n",
       "Name: saledate, dtype: datetime64[ns]"
      ]
     },
     "execution_count": 12,
     "metadata": {},
     "output_type": "execute_result"
    }
   ],
   "source": [
    "data.sort_values(by=\"saledate\",inplace=True,ascending=True)\n",
    "data.saledate.head()"
   ]
  },
  {
   "cell_type": "code",
   "execution_count": 13,
   "metadata": {},
   "outputs": [],
   "source": [
    "data_temp = data.copy()"
   ]
  },
  {
   "cell_type": "code",
   "execution_count": 14,
   "metadata": {},
   "outputs": [],
   "source": [
    "def preprocess_data(data):\n",
    "    data[\"saleyear\"] = data.saledate.dt.year\n",
    "    data[\"salemonth\"] = data.saledate.dt.month\n",
    "    data[\"saledayofyear\"] = data.saledate.dt.dayofyear\n",
    "    data[\"saledayofweek\"] = data.saledate.dt.dayofweek\n",
    "    \n",
    "    data.drop(\"saledate\" ,axis=1 , inplace=True)\n",
    "    \n",
    "    #converting string values into categorical values\n",
    "    for label ,content in data.items():\n",
    "        if pd.api.types.is_string_dtype(content):\n",
    "            data[label] = content.astype(\"category\").cat.as_ordered()\n",
    "    \n",
    "    #filling numeric missing values\n",
    "    for label , content in data.items():\n",
    "        if pd.api.types.is_numeric_dtype(content):\n",
    "            if pd.isnull(content).sum():\n",
    "                data[label + \"ismissing\"] = pd.isnull(content)\n",
    "                data[label] = content.fillna(content.median())\n",
    "                \n",
    "    #filling string missing values\n",
    "    for label ,content in data.items():\n",
    "        if not pd.api.types.is_numeric_dtype(content):\n",
    "            data[label + \"ismissing\"] = pd.isnull(content)\n",
    "            data[label] = pd.Categorical(content).codes + 1\n",
    "            \n",
    "    return data    "
   ]
  },
  {
   "cell_type": "code",
   "execution_count": 54,
   "metadata": {},
   "outputs": [],
   "source": [
    "# MAKING CUSTOM EVALUATION FUNCTION.\n",
    "from sklearn.metrics import mean_absolute_error , mean_squared_log_error\n",
    "def rmsle(ytest,ypreds):\n",
    "    return np.sqrt(mean_squared_log_error(ytest , ypreds))\n",
    "def show_scores(model):\n",
    "    train_preds = model.predict(xtrain)\n",
    "    val_preds   = model.predict(xvalid)\n",
    "    scores = {\"TRAINING MAE -> \":mean_absolute_error(ytrain , train_preds),\n",
    "              \"VALID MAR -> \": mean_absolute_error(yvalid , val_preds),\n",
    "              \"TRAINING RMSLE -> \": rmsle(ytrain,train_preds),\n",
    "              \"VALID RMSLE -> \": rmsle(yvalid , val_preds),\n",
    "              \"TRAINING R^2 -> \": model.score(xtrain , ytrain),\n",
    "              \"VALID R^2 -> \": model.score(xvalid , yvalid)}\n",
    "    return scores    "
   ]
  },
  {
   "cell_type": "code",
   "execution_count": 15,
   "metadata": {},
   "outputs": [],
   "source": [
    "data_temp = preprocess_data(data_temp)"
   ]
  },
  {
   "cell_type": "code",
   "execution_count": 26,
   "metadata": {},
   "outputs": [
    {
     "name": "stdout",
     "output_type": "stream",
     "text": [
      "<class 'pandas.core.frame.DataFrame'>\n",
      "Int64Index: 412698 entries, 205615 to 409203\n",
      "Columns: 102 entries, SalesID to Steering_Controlsismissing\n",
      "dtypes: bool(46), float64(3), int16(4), int64(9), int8(40)\n",
      "memory usage: 77.9 MB\n"
     ]
    }
   ],
   "source": [
    "data_temp.info()"
   ]
  },
  {
   "cell_type": "code",
   "execution_count": 33,
   "metadata": {},
   "outputs": [],
   "source": [
    "train_data = data_temp[data_temp[\"saleyear\"]!=2012]\n",
    "valid_data = data_temp[data_temp[\"saleyear\"]==2012]"
   ]
  },
  {
   "cell_type": "code",
   "execution_count": 56,
   "metadata": {},
   "outputs": [],
   "source": [
    "from sklearn.ensemble import RandomForestRegressor\n",
    "reg_model = RandomForestRegressor(n_jobs = -1 , max_samples=10000)\n",
    "xtrain = train_data.drop(\"SalePrice\" , axis=1)\n",
    "ytrain = train_data[\"SalePrice\"]\n",
    "xvalid = valid_data.drop(\"SalePrice\" , axis=1)\n",
    "yvalid = valid_data[\"SalePrice\"]"
   ]
  },
  {
   "cell_type": "code",
   "execution_count": 57,
   "metadata": {},
   "outputs": [
    {
     "data": {
      "text/plain": [
       "(401125, 11573)"
      ]
     },
     "execution_count": 57,
     "metadata": {},
     "output_type": "execute_result"
    }
   ],
   "source": [
    "len(xtrain) , len(xvalid)"
   ]
  },
  {
   "cell_type": "code",
   "execution_count": 58,
   "metadata": {},
   "outputs": [
    {
     "name": "stdout",
     "output_type": "stream",
     "text": [
      "Wall time: 8.35 s\n"
     ]
    },
    {
     "data": {
      "text/plain": [
       "RandomForestRegressor(max_samples=10000, n_jobs=-1)"
      ]
     },
     "execution_count": 58,
     "metadata": {},
     "output_type": "execute_result"
    }
   ],
   "source": [
    "%%time\n",
    "reg_model.fit(xtrain, ytrain)"
   ]
  },
  {
   "cell_type": "code",
   "execution_count": 59,
   "metadata": {},
   "outputs": [
    {
     "data": {
      "text/plain": [
       "{'TRAINING MAE -> ': 5507.872906999064,\n",
       " 'VALID MAR -> ': 7144.711459431435,\n",
       " 'TRAINING RMSLE -> ': 0.2556741603772185,\n",
       " 'VALID RMSLE -> ': 0.29348921291885227,\n",
       " 'TRAINING R^2 -> ': 0.8629655636571905,\n",
       " 'VALID R^2 -> ': 0.8331875840196737}"
      ]
     },
     "execution_count": 59,
     "metadata": {},
     "output_type": "execute_result"
    }
   ],
   "source": [
    "show_scores(reg_model)"
   ]
  },
  {
   "cell_type": "markdown",
   "metadata": {},
   "source": [
    "#### HYPERPARAMETER TUNING"
   ]
  },
  {
   "cell_type": "code",
   "execution_count": 83,
   "metadata": {},
   "outputs": [
    {
     "name": "stdout",
     "output_type": "stream",
     "text": [
      "Fitting 5 folds for each of 2 candidates, totalling 10 fits\n"
     ]
    },
    {
     "name": "stderr",
     "output_type": "stream",
     "text": [
      "[Parallel(n_jobs=1)]: Using backend SequentialBackend with 1 concurrent workers.\n",
      "[Parallel(n_jobs=1)]: Done  10 out of  10 | elapsed:  1.4min finished\n"
     ]
    },
    {
     "data": {
      "text/plain": [
       "RandomizedSearchCV(cv=5, estimator=RandomForestRegressor(), n_iter=2,\n",
       "                   param_distributions={'max_depth': [None, 3, 5, 10],\n",
       "                                        'max_features': [0.5, 1, 'sqrt',\n",
       "                                                         'auto'],\n",
       "                                        'max_samples': [10000],\n",
       "                                        'min_samples_split': array([ 2,  4,  6,  8, 10, 12, 14, 16, 18]),\n",
       "                                        'n_estimators': array([ 0, 10, 20, 30, 40, 50, 60, 70, 80, 90])},\n",
       "                   verbose=True)"
      ]
     },
     "execution_count": 83,
     "metadata": {},
     "output_type": "execute_result"
    }
   ],
   "source": [
    "from sklearn.model_selection import RandomizedSearchCV\n",
    "rf_grid = {\"n_estimators\":np.arange(0,100,10),\n",
    "           \"max_depth\":[None , 3,5,10],\n",
    "           \"min_samples_split\":np.arange(2,20,2),\n",
    "           \"max_features\":[0.5,1,\"sqrt\",\"auto\"],\n",
    "           \"max_samples\":[10000]}\n",
    "rs_model = RandomizedSearchCV(RandomForestRegressor() , param_distributions=rf_grid , n_iter=2,cv=5,verbose=True)\n",
    "rs_model.fit(xtrain,ytrain)"
   ]
  },
  {
   "cell_type": "code",
   "execution_count": 84,
   "metadata": {},
   "outputs": [
    {
     "data": {
      "text/plain": [
       "{'n_estimators': 70,\n",
       " 'min_samples_split': 16,\n",
       " 'max_samples': 10000,\n",
       " 'max_features': 'auto',\n",
       " 'max_depth': None}"
      ]
     },
     "execution_count": 84,
     "metadata": {},
     "output_type": "execute_result"
    }
   ],
   "source": [
    "rs_model.best_params_"
   ]
  },
  {
   "cell_type": "code",
   "execution_count": 85,
   "metadata": {},
   "outputs": [
    {
     "data": {
      "text/plain": [
       "{'TRAINING MAE -> ': 5795.0477192467415,\n",
       " 'VALID MAR -> ': 7322.498434143682,\n",
       " 'TRAINING RMSLE -> ': 0.2654693650500947,\n",
       " 'VALID RMSLE -> ': 0.29824252381219146,\n",
       " 'TRAINING R^2 -> ': 0.8484839173607384,\n",
       " 'VALID R^2 -> ': 0.8250869291190593}"
      ]
     },
     "execution_count": 85,
     "metadata": {},
     "output_type": "execute_result"
    }
   ],
   "source": [
    "show_scores(rs_model)"
   ]
  },
  {
   "cell_type": "code",
   "execution_count": 87,
   "metadata": {},
   "outputs": [
    {
     "name": "stdout",
     "output_type": "stream",
     "text": [
      "Wall time: 1min 34s\n"
     ]
    },
    {
     "data": {
      "text/plain": [
       "RandomForestRegressor(max_features=0.5, min_samples_split=14, n_estimators=90,\n",
       "                      n_jobs=-1)"
      ]
     },
     "execution_count": 87,
     "metadata": {},
     "output_type": "execute_result"
    }
   ],
   "source": [
    "%%time\n",
    "imodel = RandomForestRegressor(n_estimators=90 , min_samples_leaf=1,min_samples_split=14,max_features=0.5,n_jobs=-1,max_samples=None)\n",
    "imodel.fit(xtrain,ytrain)"
   ]
  },
  {
   "cell_type": "code",
   "execution_count": 88,
   "metadata": {},
   "outputs": [
    {
     "data": {
      "text/plain": [
       "{'TRAINING MAE -> ': 2964.55791708378,\n",
       " 'VALID MAR -> ': 5917.235043766075,\n",
       " 'TRAINING RMSLE -> ': 0.14484821236647638,\n",
       " 'VALID RMSLE -> ': 0.2448163409603867,\n",
       " 'TRAINING R^2 -> ': 0.9588072114532705,\n",
       " 'VALID R^2 -> ': 0.8827378307486582}"
      ]
     },
     "execution_count": 88,
     "metadata": {},
     "output_type": "execute_result"
    }
   ],
   "source": [
    "show_scores(imodel)"
   ]
  },
  {
   "cell_type": "code",
   "execution_count": 90,
   "metadata": {},
   "outputs": [],
   "source": [
    "test_data = pd.read_csv(\"C:/Users/dell/Desktop/ml/bull/Test.csv\",low_memory=False,parse_dates=[\"saledate\"])\n",
    "test_data = preprocess_data(test_data)"
   ]
  },
  {
   "cell_type": "code",
   "execution_count": 91,
   "metadata": {},
   "outputs": [
    {
     "data": {
      "text/plain": [
       "{'auctioneerIDismissing'}"
      ]
     },
     "execution_count": 91,
     "metadata": {},
     "output_type": "execute_result"
    }
   ],
   "source": [
    "set(xtrain)-set(test_data)"
   ]
  },
  {
   "cell_type": "code",
   "execution_count": 93,
   "metadata": {},
   "outputs": [],
   "source": [
    "test_data[\"auctioneerIDismissing\"] = False"
   ]
  },
  {
   "cell_type": "code",
   "execution_count": 95,
   "metadata": {},
   "outputs": [
    {
     "data": {
      "text/plain": [
       "((12457, 101), (401125, 101))"
      ]
     },
     "execution_count": 95,
     "metadata": {},
     "output_type": "execute_result"
    }
   ],
   "source": [
    "test_data.shape , xtrain.shape"
   ]
  },
  {
   "cell_type": "code",
   "execution_count": 97,
   "metadata": {},
   "outputs": [
    {
     "data": {
      "text/html": [
       "<div>\n",
       "<style scoped>\n",
       "    .dataframe tbody tr th:only-of-type {\n",
       "        vertical-align: middle;\n",
       "    }\n",
       "\n",
       "    .dataframe tbody tr th {\n",
       "        vertical-align: top;\n",
       "    }\n",
       "\n",
       "    .dataframe thead th {\n",
       "        text-align: right;\n",
       "    }\n",
       "</style>\n",
       "<table border=\"1\" class=\"dataframe\">\n",
       "  <thead>\n",
       "    <tr style=\"text-align: right;\">\n",
       "      <th></th>\n",
       "      <th>SalesID</th>\n",
       "      <th>SalePrice</th>\n",
       "    </tr>\n",
       "  </thead>\n",
       "  <tbody>\n",
       "    <tr>\n",
       "      <th>0</th>\n",
       "      <td>1227829</td>\n",
       "      <td>21331.790264</td>\n",
       "    </tr>\n",
       "    <tr>\n",
       "      <th>1</th>\n",
       "      <td>1227844</td>\n",
       "      <td>19893.362666</td>\n",
       "    </tr>\n",
       "    <tr>\n",
       "      <th>2</th>\n",
       "      <td>1227847</td>\n",
       "      <td>52176.598263</td>\n",
       "    </tr>\n",
       "    <tr>\n",
       "      <th>3</th>\n",
       "      <td>1227848</td>\n",
       "      <td>56508.115568</td>\n",
       "    </tr>\n",
       "    <tr>\n",
       "      <th>4</th>\n",
       "      <td>1227863</td>\n",
       "      <td>49751.816247</td>\n",
       "    </tr>\n",
       "  </tbody>\n",
       "</table>\n",
       "</div>"
      ],
      "text/plain": [
       "   SalesID     SalePrice\n",
       "0  1227829  21331.790264\n",
       "1  1227844  19893.362666\n",
       "2  1227847  52176.598263\n",
       "3  1227848  56508.115568\n",
       "4  1227863  49751.816247"
      ]
     },
     "execution_count": 97,
     "metadata": {},
     "output_type": "execute_result"
    }
   ],
   "source": [
    "df_preds = pd.DataFrame()\n",
    "test_preds = imodel.predict(test_data)\n",
    "df_preds[\"SalesID\"] = test_data[\"SalesID\"]\n",
    "df_preds[\"SalePrice\"]     = test_preds\n",
    "df_preds.head()"
   ]
  },
  {
   "cell_type": "code",
   "execution_count": 99,
   "metadata": {},
   "outputs": [
    {
     "data": {
      "text/plain": [
       "array([3.43345070e-02, 2.17415848e-02, 4.54001403e-02, 1.97597891e-03,\n",
       "       3.53120947e-03, 1.98420101e-01, 3.27428920e-03, 1.11316861e-03,\n",
       "       4.17318267e-02, 3.91797231e-02, 6.61339961e-02, 4.38612533e-03,\n",
       "       1.80517793e-02, 1.52776525e-01, 4.01061049e-02, 6.38602910e-03,\n",
       "       5.47890720e-03, 3.54693159e-03, 3.16432287e-03, 7.55831571e-02,\n",
       "       4.62820845e-04, 3.71355038e-04, 7.99551207e-04, 1.74297969e-04,\n",
       "       1.05764026e-03, 9.05388997e-05, 5.53329977e-04, 6.60260984e-03,\n",
       "       3.90431749e-03, 2.21826553e-03, 4.24064363e-03, 2.54762316e-03,\n",
       "       3.99123382e-03, 1.36652965e-03, 3.58399481e-03, 8.33601690e-03,\n",
       "       9.30627449e-04, 1.08914031e-02, 2.18998272e-03, 1.66806883e-03,\n",
       "       9.85319255e-04, 8.97265772e-04, 1.81547046e-03, 6.34780663e-04,\n",
       "       5.33439411e-04, 3.85338550e-04, 3.16684595e-04, 2.22060578e-03,\n",
       "       9.27628061e-04, 2.75350027e-04, 6.12122219e-04, 7.28617360e-02,\n",
       "       4.08384828e-03, 1.05200420e-02, 3.13613679e-03, 2.86245976e-04,\n",
       "       1.51050304e-03, 3.70530834e-04, 0.00000000e+00, 0.00000000e+00,\n",
       "       2.47110457e-03, 1.26360597e-03, 5.36347011e-03, 2.51248905e-02,\n",
       "       0.00000000e+00, 0.00000000e+00, 0.00000000e+00, 0.00000000e+00,\n",
       "       1.56420526e-05, 6.25648935e-06, 5.24094578e-04, 3.21813800e-05,\n",
       "       1.06240109e-04, 1.60274657e-05, 1.77153108e-04, 1.01250964e-05,\n",
       "       4.10210914e-03, 1.76598349e-03, 1.97550809e-03, 7.91976485e-04,\n",
       "       3.57088938e-03, 1.92387064e-03, 1.04307168e-03, 1.24187075e-03,\n",
       "       2.06585747e-03, 2.10757166e-03, 2.21357913e-04, 1.35612603e-02,\n",
       "       3.53149953e-03, 7.06235679e-04, 6.82583143e-05, 1.52310172e-04,\n",
       "       5.63057700e-05, 1.26977790e-04, 3.33687803e-05, 4.51089934e-05,\n",
       "       4.62826585e-04, 1.40476504e-04, 1.17367091e-04, 1.39044310e-04,\n",
       "       2.67795474e-04])"
      ]
     },
     "execution_count": 99,
     "metadata": {},
     "output_type": "execute_result"
    }
   ],
   "source": [
    "imodel.feature_importances_\n",
    "# THE CONTRIBUTION OF EACH COLUMN IN THE FINAL RESULT"
   ]
  },
  {
   "cell_type": "code",
   "execution_count": 110,
   "metadata": {},
   "outputs": [],
   "source": [
    "import seaborn as sns\n",
    "def plot_features_importance(columns , importances , n=20):\n",
    "    df = (pd.DataFrame({\n",
    "        \"Features\":columns,\n",
    "        \"Feature-Importance\":importances,}).sort_values(\"Feature-Importance\",ascending=False).reset_index(drop=True))\n",
    "    fig , ax = plt.subplots(figsize=(10,6))\n",
    "    sns.barplot(x=\"Feature-Importance\" , y=\"Features\",ax=ax,data=df[:n],orient=\"h\")"
   ]
  },
  {
   "cell_type": "code",
   "execution_count": 111,
   "metadata": {},
   "outputs": [
    {
     "data": {
      "image/png": "[encoded data removed]",
      "text/plain": [
       "<Figure size 720x432 with 1 Axes>"
      ]
     },
     "metadata": {
      "needs_background": "light"
     },
     "output_type": "display_data"
    }
   ],
   "source": [
    "plot_features_importance(xtrain.columns , imodel.feature_importances_)"
   ]
  }
 ],
 "metadata": {
  "kernelspec": {
   "display_name": "Python 3",
   "language": "python",
   "name": "python3"
  },
  "language_info": {
   "codemirror_mode": {
    "name": "ipython",
    "version": 3
   },
   "file_extension": ".py",
   "mimetype": "text/x-python",
   "name": "python",
   "nbconvert_exporter": "python",
   "pygments_lexer": "ipython3",
   "version": "3.7.4"
  }
 },
 "nbformat": 4,
 "nbformat_minor": 4
}
